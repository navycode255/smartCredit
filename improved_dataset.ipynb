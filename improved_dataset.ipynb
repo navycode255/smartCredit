{
 "cells": [
  {
   "cell_type": "code",
   "execution_count": 53,
   "id": "0307d9f4",
   "metadata": {},
   "outputs": [],
   "source": [
    "import pandas as pd\n",
    "\n",
    "credit_df = pd.read_csv('modified_data.csv' , low_memory=False)\n",
    "# dropping customer id column\n",
    "credit_df = credit_df.drop('Customer_ID', axis=1)\n",
    "\n",
    "credit_df = credit_df.drop('Monthly_Inhand_Salary', axis=1)\n",
    "credit_df.to_csv('modified_data.csv')\n",
    "# print(credit_df.columns)"
   ]
  },
  {
   "cell_type": "code",
   "execution_count": 54,
   "id": "b835071d",
   "metadata": {},
   "outputs": [
    {
     "name": "stdout",
     "output_type": "stream",
     "text": [
      "       ID     Month           Name   Age   Unnamed: 5 Occupation  \\\n",
      "0  0x1602   January  Aaron Maashoh    23  821-00-0265  Scientist   \n",
      "1  0x1603  February  Aaron Maashoh    23  821-00-0265  Scientist   \n",
      "2  0x1604     March  Aaron Maashoh  -500  821-00-0265  Scientist   \n",
      "3  0x1605     April  Aaron Maashoh    23  821-00-0265  Scientist   \n",
      "4  0x1606       May  Aaron Maashoh    23  821-00-0265  Scientist   \n",
      "\n",
      "  Annual_Income  Num_Bank_Accounts  Num_Credit_Card  Interest_Rate  ...  \\\n",
      "0      19114.12                  3                4              3  ...   \n",
      "1      19114.12                  3                4              3  ...   \n",
      "2      19114.12                  3                4              3  ...   \n",
      "3      19114.12                  3                4              3  ...   \n",
      "4      19114.12                  3                4              3  ...   \n",
      "\n",
      "  Outstanding_Debt Credit_Utilization_Ratio     Credit_History_Age  \\\n",
      "0           809.98                26.822620  22 Years and 1 Months   \n",
      "1           809.98                31.944960                    NaN   \n",
      "2           809.98                28.609352  22 Years and 3 Months   \n",
      "3           809.98                31.377862  22 Years and 4 Months   \n",
      "4           809.98                24.797347  22 Years and 5 Months   \n",
      "\n",
      "  Payment_of_Min_Amount Total_EMI_per_month  Amount_invested_monthly  \\\n",
      "0                    No           49.574949              80.41529544   \n",
      "1                    No           49.574949              118.2802216   \n",
      "2                    No           49.574949              81.69952126   \n",
      "3                    No           49.574949              199.4580744   \n",
      "4                    No           49.574949              41.42015309   \n",
      "\n",
      "                  Payment_Behaviour Monthly_Balance  Credit_Score  \\\n",
      "0   High_spent_Small_value_payments     312.4940887          Good   \n",
      "1    Low_spent_Large_value_payments     284.6291625          Good   \n",
      "2   Low_spent_Medium_value_payments     331.2098629          Good   \n",
      "3    Low_spent_Small_value_payments     223.4513097          Good   \n",
      "4  High_spent_Medium_value_payments      341.489231          Good   \n",
      "\n",
      "  salary_in_TZS  \n",
      "0   3661741.949  \n",
      "1           NaN  \n",
      "2           NaN  \n",
      "3           NaN  \n",
      "4   3661741.949  \n",
      "\n",
      "[5 rows x 27 columns]\n"
     ]
    }
   ],
   "source": [
    "# Decrease salaries greater than 800000\n",
    "max_salary = 800000\n",
    "salary_column = 'salary_in_TZS'\n",
    "\n",
    "# Filter and update salaries\n",
    "filtered_salaries = credit_df.loc[credit_df[salary_column] > max_salary, salary_column]\n",
    "credit_df.loc[credit_df[salary_column] > max_salary, salary_column] = filtered_salaries - 800000\n",
    "\n",
    "# saving changes\n",
    "credit_df.to_csv('modified_data.csv')\n",
    "\n",
    "# Print the updated DataFrame\n",
    "print(credit_df.head(5))\n"
   ]
  },
  {
   "cell_type": "code",
   "execution_count": 29,
   "id": "d79c6988",
   "metadata": {},
   "outputs": [
    {
     "name": "stdout",
     "output_type": "stream",
     "text": [
      "       ID     Month           Name   Age   Unnamed: 5 Occupation  \\\n",
      "0  0x1602   January  Aaron Maashoh    23  821-00-0265  Scientist   \n",
      "1  0x1603  February  Aaron Maashoh    23  821-00-0265  Scientist   \n",
      "2  0x1604     March  Aaron Maashoh  -500  821-00-0265  Scientist   \n",
      "3  0x1605     April  Aaron Maashoh    23  821-00-0265  Scientist   \n",
      "4  0x1606       May  Aaron Maashoh    23  821-00-0265  Scientist   \n",
      "\n",
      "  Annual_Income  Num_Bank_Accounts  Num_Credit_Card  Interest_Rate  ...  \\\n",
      "0      19114.12                  3                4              3  ...   \n",
      "1      19114.12                  3                4              3  ...   \n",
      "2      19114.12                  3                4              3  ...   \n",
      "3      19114.12                  3                4              3  ...   \n",
      "4      19114.12                  3                4              3  ...   \n",
      "\n",
      "  Credit_Mix Outstanding_Debt  Credit_Utilization_Ratio  \\\n",
      "0          _           809.98                 26.822620   \n",
      "1       Good           809.98                 31.944960   \n",
      "2       Good           809.98                 28.609352   \n",
      "3       Good           809.98                 31.377862   \n",
      "4       Good           809.98                 24.797347   \n",
      "\n",
      "      Credit_History_Age Total_EMI_per_month  Amount_invested_monthly  \\\n",
      "0  22 Years and 1 Months           49.574949              80.41529544   \n",
      "1                    NaN           49.574949              118.2802216   \n",
      "2  22 Years and 3 Months           49.574949              81.69952126   \n",
      "3  22 Years and 4 Months           49.574949              199.4580744   \n",
      "4  22 Years and 5 Months           49.574949              41.42015309   \n",
      "\n",
      "                  Payment_Behaviour Monthly_Balance  Credit_Score  \\\n",
      "0   High_spent_Small_value_payments     312.4940887          Good   \n",
      "1    Low_spent_Large_value_payments     284.6291625          Good   \n",
      "2   Low_spent_Medium_value_payments     331.2098629          Good   \n",
      "3    Low_spent_Small_value_payments     223.4513097          Good   \n",
      "4  High_spent_Medium_value_payments      341.489231          Good   \n",
      "\n",
      "  salary_in_TZS  \n",
      "0   4461741.949  \n",
      "1           NaN  \n",
      "2           NaN  \n",
      "3           NaN  \n",
      "4   4461741.949  \n",
      "\n",
      "[5 rows x 26 columns]\n"
     ]
    }
   ],
   "source": [
    "print(credit_df.iloc[0:5])"
   ]
  },
  {
   "cell_type": "code",
   "execution_count": null,
   "id": "04f52705",
   "metadata": {},
   "outputs": [],
   "source": [
    "# reading each row in entire row\n",
    "# for index, row in credit_df.iterrows():\n",
    "#     print(index, row['Name'], credit_df.iloc[1:10])"
   ]
  },
  {
   "cell_type": "code",
   "execution_count": 67,
   "id": "8995a327",
   "metadata": {},
   "outputs": [
    {
     "name": "stdout",
     "output_type": "stream",
     "text": [
      "Index(['ID', 'Name', 'Age', 'Unnamed: 5', 'Occupation', 'Annual_Income',\n",
      "       'Num_Bank_Accounts', 'Num_Credit_Card', 'Interest_Rate', 'Num_of_Loan',\n",
      "       'Type_of_Loan', 'Delay_from_due_date', 'Num_of_Delayed_Payment',\n",
      "       'Changed_Credit_Limit', 'Num_Credit_Inquiries', 'Credit_Mix',\n",
      "       'Outstanding_Debt', 'Credit_Utilization_Ratio', 'Credit_History_Age',\n",
      "       'Payment_of_Min_Amount', 'Total_EMI_per_month',\n",
      "       'Amount_invested_monthly', 'Payment_Behaviour', 'Monthly_Balance',\n",
      "       'Credit_Score', 'salary_in_TZS'],\n",
      "      dtype='object')\n"
     ]
    }
   ],
   "source": [
    "print(credit_df.columns)\n",
    "credit_df.to_csv('modified_data.csv')"
   ]
  },
  {
   "cell_type": "code",
   "execution_count": 72,
   "id": "72d8bfab",
   "metadata": {},
   "outputs": [
    {
     "name": "stdout",
     "output_type": "stream",
     "text": [
      "Index(['ID', 'Name', 'Age', 'Phone', 'Occupation', 'Annual_Income',\n",
      "       'Num_Bank_Accounts', 'Num_Credit_Card', 'Interest_Rate', 'Num_of_Loan',\n",
      "       'Type_of_Loan', 'Delay_from_due_date', 'Num_of_Delayed_Payment',\n",
      "       'Changed_Credit_Limit', 'Num_Credit_Inquiries', 'Credit_Mix',\n",
      "       'Outstanding_Debt', 'Credit_Utilization_Ratio', 'Credit_History_Age',\n",
      "       'Payment_of_Min_Amount', 'Total_EMI_per_month',\n",
      "       'Amount_invested_monthly', 'Payment_Behaviour', 'Monthly_Balance',\n",
      "       'Credit_Score', 'salary_in_TZS'],\n",
      "      dtype='object')\n"
     ]
    }
   ],
   "source": [
    "# changing unnamed column to phone number\n",
    "# Change the name of a single column\n",
    "credit_df.rename(columns={'Unnamed: 5': 'Phone'}, inplace=True)\n",
    "credit_df.to_csv('modified_data.csv')\n",
    "print(credit_df.columns)\n"
   ]
  },
  {
   "cell_type": "code",
   "execution_count": 73,
   "id": "00755f20",
   "metadata": {},
   "outputs": [],
   "source": [
    "# dropping empty rows\n",
    "credit_df.dropna(inplace=True)\n",
    "credit_df.to_csv('modified_data.csv')\n"
   ]
  },
  {
   "cell_type": "code",
   "execution_count": 75,
   "id": "5ae7babc",
   "metadata": {},
   "outputs": [],
   "source": [
    "# Limit maximum salary value to 8000000\n",
    "max_salary = 8000000\n",
    "credit_df['Salary_in_TZS'] = credit_df['salary_in_TZS'].clip(upper=max_salary)\n",
    "\n"
   ]
  },
  {
   "cell_type": "code",
   "execution_count": 76,
   "id": "5161c8a1",
   "metadata": {},
   "outputs": [],
   "source": [
    "# print(credit_df[['Name','Occupation', 'salary_in_TZS']])\n",
    "# credit_df= credit_df.drop('df', axis=1)\n",
    "# print(credit_df.head(10))"
   ]
  },
  {
   "cell_type": "code",
   "execution_count": 79,
   "id": "2dfccaf5",
   "metadata": {},
   "outputs": [
    {
     "name": "stdout",
     "output_type": "stream",
     "text": [
      "Index(['ID', 'Name', 'Age', 'Credit_Score', 'salary_in_TZS', 'Salary_in_TZS',\n",
      "       'Phone', 'Occupation', 'Annual_Income', 'Num_Bank_Accounts',\n",
      "       'Num_Credit_Card', 'Interest_Rate', 'Num_of_Loan', 'Type_of_Loan',\n",
      "       'Delay_from_due_date', 'Num_of_Delayed_Payment', 'Changed_Credit_Limit',\n",
      "       'Num_Credit_Inquiries', 'Credit_Mix', 'Outstanding_Debt',\n",
      "       'Credit_Utilization_Ratio', 'Credit_History_Age',\n",
      "       'Payment_of_Min_Amount', 'Total_EMI_per_month',\n",
      "       'Amount_invested_monthly', 'Payment_Behaviour', 'Monthly_Balance'],\n",
      "      dtype='object')\n"
     ]
    }
   ],
   "source": [
    "# Get the column names of the DataFrame\n",
    "columns = credit_df.columns.tolist()\n",
    "\n",
    "# Move 'Salary_in_TZS' to the desired position\n",
    "columns.insert(3, columns.pop(-1))\n",
    "\n",
    "# Reorder the DataFrame columns\n",
    "credit_df = credit_df[columns]\n",
    "print(credit_df.columns)\n",
    "credit_df.to_csv('modified_data.csv')"
   ]
  },
  {
   "cell_type": "code",
   "execution_count": 81,
   "id": "6b41feb0",
   "metadata": {},
   "outputs": [],
   "source": [
    "# Convert 'Age' column to numeric values\n",
    "credit_df['Age'] = pd.to_numeric(credit_df['Age'], errors='coerce')\n",
    "\n",
    "# Remove rows with negative values and values above 90 in 'Age' column\n",
    "credit_df = credit_df[(credit_df['Age'] >= 0) & (credit_df['Age'] <= 90)].copy()\n",
    "\n",
    "credit_df.to_csv('cleaned_data.csv')\n"
   ]
  },
  {
   "cell_type": "code",
   "execution_count": null,
   "id": "b7f9f5fe",
   "metadata": {},
   "outputs": [],
   "source": []
  },
  {
   "cell_type": "code",
   "execution_count": null,
   "id": "54be6be9",
   "metadata": {},
   "outputs": [],
   "source": []
  }
 ],
 "metadata": {
  "kernelspec": {
   "display_name": "Python 3 (ipykernel)",
   "language": "python",
   "name": "python3"
  },
  "language_info": {
   "codemirror_mode": {
    "name": "ipython",
    "version": 3
   },
   "file_extension": ".py",
   "mimetype": "text/x-python",
   "name": "python",
   "nbconvert_exporter": "python",
   "pygments_lexer": "ipython3",
   "version": "3.11.2"
  }
 },
 "nbformat": 4,
 "nbformat_minor": 5
}
